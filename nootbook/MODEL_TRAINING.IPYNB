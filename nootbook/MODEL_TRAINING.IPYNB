{
 "cells": [
  {
   "cell_type": "markdown",
   "metadata": {},
   "source": [
    "Project Implementing on Random Forest and\n",
    "GradientBoostingRegressor Model\n",
    "Imports: The script imports necessary libraries including\n",
    "requests for making HTTP requests, pandas for data\n",
    "manipulation, numpy for numerical computations, GridSearchCV\n",
    "and RandomForestRegressor from scikit-learn for building the\n",
    "machine learning model.\n",
    "Data Retrieval: It constructs a URL to fetch historical price\n",
    "data (candlestick data) for a specified cryptocurrency symbol\n",
    "('BTCUSDT') and time interval (5 minutes) using the Binance\n",
    "API. It then fetches the data and converts it into a pandas\n",
    "DataFrame.\n",
    "Data Preprocessing: The script preprocesses the data by\n",
    "dropping unnecessary columns ('close_time', 'qav',\n",
    "'is_best_match') and creating a new column 'target'\n",
    "containing the next close price (shifted by one time\n",
    "interval) as the target variable for prediction.\n",
    "Model Training and Prediction: It iterates through the\n",
    "dataset and splits it into training and test sets. For each\n",
    "iteration, it performs a grid search over hyperparameters\n",
    "(n_estimators and max_depth) of the Random Forest model using\n",
    "time series cross-validation (tscv). It then fits the model\n",
    "to the training data and prints the forecasted price for the\n",
    "test data.\n",
    "Output: The script prints the forecasted price for each\n",
    "iteration of the model.\n",
    "Comments: There are multiple comments throughout the code,\n",
    "indicating the source of the instructions and encouraging\n",
    "viewers to like and subscribe to a YouTube channel (\"Bitone\n",
    "Great\").\n"
   ]
  },
  {
   "cell_type": "code",
   "execution_count": 2,
   "metadata": {},
   "outputs": [],
   "source": [
    "import requests\n",
    "import pandas as pd\n",
    "import numpy as np\n",
    "from sklearn.model_selection import train_test_split\n",
    "from sklearn.ensemble import RandomForestRegressor\n",
    "from sklearn.metrics import mean_squared_error\n",
    "from datetime import datetime"
   ]
  },
  {
   "cell_type": "code",
   "execution_count": 3,
   "metadata": {},
   "outputs": [],
   "source": [
    "symbol = 'BTCUSDT'\n",
    "timeinterval = 5\n"
   ]
  },
  {
   "cell_type": "code",
   "execution_count": 4,
   "metadata": {},
   "outputs": [],
   "source": [
    "url =  'https://fapi.binance.com/fapi/v1/klines?symbol=' + symbol + '&interval=' + str(timeinterval) + 'm' + '&limit=100'\n",
    "data = requests.get(url).json()"
   ]
  },
  {
   "cell_type": "code",
   "execution_count": 5,
   "metadata": {},
   "outputs": [
    {
     "data": {
      "text/html": [
       "<div>\n",
       "<style scoped>\n",
       "    .dataframe tbody tr th:only-of-type {\n",
       "        vertical-align: middle;\n",
       "    }\n",
       "\n",
       "    .dataframe tbody tr th {\n",
       "        vertical-align: top;\n",
       "    }\n",
       "\n",
       "    .dataframe thead th {\n",
       "        text-align: right;\n",
       "    }\n",
       "</style>\n",
       "<table border=\"1\" class=\"dataframe\">\n",
       "  <thead>\n",
       "    <tr style=\"text-align: right;\">\n",
       "      <th></th>\n",
       "      <th>open_time</th>\n",
       "      <th>open</th>\n",
       "      <th>high</th>\n",
       "      <th>low</th>\n",
       "      <th>close</th>\n",
       "      <th>volume</th>\n",
       "      <th>close_time</th>\n",
       "      <th>qav</th>\n",
       "      <th>num_trades</th>\n",
       "      <th>taker_base_vol</th>\n",
       "      <th>taker_quote_vol</th>\n",
       "      <th>is_best_match</th>\n",
       "    </tr>\n",
       "  </thead>\n",
       "  <tbody>\n",
       "    <tr>\n",
       "      <th>0</th>\n",
       "      <td>1734001500000</td>\n",
       "      <td>100473.40</td>\n",
       "      <td>100634.50</td>\n",
       "      <td>100473.30</td>\n",
       "      <td>100490.60</td>\n",
       "      <td>296.493</td>\n",
       "      <td>1734001799999</td>\n",
       "      <td>29814842.78600</td>\n",
       "      <td>8915</td>\n",
       "      <td>171.899</td>\n",
       "      <td>17285637.68660</td>\n",
       "      <td>0</td>\n",
       "    </tr>\n",
       "    <tr>\n",
       "      <th>1</th>\n",
       "      <td>1734001800000</td>\n",
       "      <td>100490.50</td>\n",
       "      <td>100490.50</td>\n",
       "      <td>100211.60</td>\n",
       "      <td>100227.70</td>\n",
       "      <td>1248.631</td>\n",
       "      <td>1734002099999</td>\n",
       "      <td>125256019.75080</td>\n",
       "      <td>21670</td>\n",
       "      <td>425.239</td>\n",
       "      <td>42657058.19710</td>\n",
       "      <td>0</td>\n",
       "    </tr>\n",
       "    <tr>\n",
       "      <th>2</th>\n",
       "      <td>1734002100000</td>\n",
       "      <td>100227.60</td>\n",
       "      <td>100390.60</td>\n",
       "      <td>100210.30</td>\n",
       "      <td>100254.40</td>\n",
       "      <td>592.077</td>\n",
       "      <td>1734002399999</td>\n",
       "      <td>59375854.78310</td>\n",
       "      <td>11239</td>\n",
       "      <td>334.014</td>\n",
       "      <td>33499560.97340</td>\n",
       "      <td>0</td>\n",
       "    </tr>\n",
       "    <tr>\n",
       "      <th>3</th>\n",
       "      <td>1734002400000</td>\n",
       "      <td>100254.40</td>\n",
       "      <td>100413.00</td>\n",
       "      <td>100150.00</td>\n",
       "      <td>100327.50</td>\n",
       "      <td>1081.824</td>\n",
       "      <td>1734002699999</td>\n",
       "      <td>108445781.42210</td>\n",
       "      <td>16202</td>\n",
       "      <td>442.330</td>\n",
       "      <td>44348113.03930</td>\n",
       "      <td>0</td>\n",
       "    </tr>\n",
       "    <tr>\n",
       "      <th>4</th>\n",
       "      <td>1734002700000</td>\n",
       "      <td>100327.50</td>\n",
       "      <td>100446.80</td>\n",
       "      <td>100285.00</td>\n",
       "      <td>100446.80</td>\n",
       "      <td>424.178</td>\n",
       "      <td>1734002999999</td>\n",
       "      <td>42576000.73320</td>\n",
       "      <td>8462</td>\n",
       "      <td>247.890</td>\n",
       "      <td>24882815.26610</td>\n",
       "      <td>0</td>\n",
       "    </tr>\n",
       "    <tr>\n",
       "      <th>...</th>\n",
       "      <td>...</td>\n",
       "      <td>...</td>\n",
       "      <td>...</td>\n",
       "      <td>...</td>\n",
       "      <td>...</td>\n",
       "      <td>...</td>\n",
       "      <td>...</td>\n",
       "      <td>...</td>\n",
       "      <td>...</td>\n",
       "      <td>...</td>\n",
       "      <td>...</td>\n",
       "      <td>...</td>\n",
       "    </tr>\n",
       "    <tr>\n",
       "      <th>95</th>\n",
       "      <td>1734030000000</td>\n",
       "      <td>100833.80</td>\n",
       "      <td>100994.00</td>\n",
       "      <td>100768.00</td>\n",
       "      <td>100882.60</td>\n",
       "      <td>659.207</td>\n",
       "      <td>1734030299999</td>\n",
       "      <td>66484572.38850</td>\n",
       "      <td>14500</td>\n",
       "      <td>317.769</td>\n",
       "      <td>32054753.07450</td>\n",
       "      <td>0</td>\n",
       "    </tr>\n",
       "    <tr>\n",
       "      <th>96</th>\n",
       "      <td>1734030300000</td>\n",
       "      <td>100882.70</td>\n",
       "      <td>101055.30</td>\n",
       "      <td>100837.60</td>\n",
       "      <td>100952.30</td>\n",
       "      <td>862.023</td>\n",
       "      <td>1734030599999</td>\n",
       "      <td>87014677.81820</td>\n",
       "      <td>14205</td>\n",
       "      <td>638.631</td>\n",
       "      <td>64470245.86020</td>\n",
       "      <td>0</td>\n",
       "    </tr>\n",
       "    <tr>\n",
       "      <th>97</th>\n",
       "      <td>1734030600000</td>\n",
       "      <td>100952.30</td>\n",
       "      <td>101000.00</td>\n",
       "      <td>100754.30</td>\n",
       "      <td>100762.20</td>\n",
       "      <td>783.127</td>\n",
       "      <td>1734030899999</td>\n",
       "      <td>79004831.15780</td>\n",
       "      <td>11689</td>\n",
       "      <td>364.758</td>\n",
       "      <td>36799851.68560</td>\n",
       "      <td>0</td>\n",
       "    </tr>\n",
       "    <tr>\n",
       "      <th>98</th>\n",
       "      <td>1734030900000</td>\n",
       "      <td>100762.20</td>\n",
       "      <td>100786.50</td>\n",
       "      <td>100312.10</td>\n",
       "      <td>100479.00</td>\n",
       "      <td>2594.340</td>\n",
       "      <td>1734031199999</td>\n",
       "      <td>260844753.89080</td>\n",
       "      <td>36493</td>\n",
       "      <td>781.713</td>\n",
       "      <td>78610800.25310</td>\n",
       "      <td>0</td>\n",
       "    </tr>\n",
       "    <tr>\n",
       "      <th>99</th>\n",
       "      <td>1734031200000</td>\n",
       "      <td>100479.00</td>\n",
       "      <td>100543.30</td>\n",
       "      <td>100350.00</td>\n",
       "      <td>100402.40</td>\n",
       "      <td>860.353</td>\n",
       "      <td>1734031499999</td>\n",
       "      <td>86427952.87080</td>\n",
       "      <td>11062</td>\n",
       "      <td>395.646</td>\n",
       "      <td>39737599.69280</td>\n",
       "      <td>0</td>\n",
       "    </tr>\n",
       "  </tbody>\n",
       "</table>\n",
       "<p>100 rows × 12 columns</p>\n",
       "</div>"
      ],
      "text/plain": [
       "        open_time       open       high        low      close    volume  \\\n",
       "0   1734001500000  100473.40  100634.50  100473.30  100490.60   296.493   \n",
       "1   1734001800000  100490.50  100490.50  100211.60  100227.70  1248.631   \n",
       "2   1734002100000  100227.60  100390.60  100210.30  100254.40   592.077   \n",
       "3   1734002400000  100254.40  100413.00  100150.00  100327.50  1081.824   \n",
       "4   1734002700000  100327.50  100446.80  100285.00  100446.80   424.178   \n",
       "..            ...        ...        ...        ...        ...       ...   \n",
       "95  1734030000000  100833.80  100994.00  100768.00  100882.60   659.207   \n",
       "96  1734030300000  100882.70  101055.30  100837.60  100952.30   862.023   \n",
       "97  1734030600000  100952.30  101000.00  100754.30  100762.20   783.127   \n",
       "98  1734030900000  100762.20  100786.50  100312.10  100479.00  2594.340   \n",
       "99  1734031200000  100479.00  100543.30  100350.00  100402.40   860.353   \n",
       "\n",
       "       close_time              qav  num_trades taker_base_vol taker_quote_vol  \\\n",
       "0   1734001799999   29814842.78600        8915        171.899  17285637.68660   \n",
       "1   1734002099999  125256019.75080       21670        425.239  42657058.19710   \n",
       "2   1734002399999   59375854.78310       11239        334.014  33499560.97340   \n",
       "3   1734002699999  108445781.42210       16202        442.330  44348113.03930   \n",
       "4   1734002999999   42576000.73320        8462        247.890  24882815.26610   \n",
       "..            ...              ...         ...            ...             ...   \n",
       "95  1734030299999   66484572.38850       14500        317.769  32054753.07450   \n",
       "96  1734030599999   87014677.81820       14205        638.631  64470245.86020   \n",
       "97  1734030899999   79004831.15780       11689        364.758  36799851.68560   \n",
       "98  1734031199999  260844753.89080       36493        781.713  78610800.25310   \n",
       "99  1734031499999   86427952.87080       11062        395.646  39737599.69280   \n",
       "\n",
       "   is_best_match  \n",
       "0              0  \n",
       "1              0  \n",
       "2              0  \n",
       "3              0  \n",
       "4              0  \n",
       "..           ...  \n",
       "95             0  \n",
       "96             0  \n",
       "97             0  \n",
       "98             0  \n",
       "99             0  \n",
       "\n",
       "[100 rows x 12 columns]"
      ]
     },
     "metadata": {},
     "output_type": "display_data"
    }
   ],
   "source": [
    "D = pd.DataFrame(data)\n",
    "D.columns = ['open_time', 'open', 'high', 'low', 'close', 'volume', 'close_time', 'qav', 'num_trades',\n",
    "             'taker_base_vol', 'taker_quote_vol', 'is_best_match']\n",
    "display(D)"
   ]
  },
  {
   "cell_type": "code",
   "execution_count": 6,
   "metadata": {},
   "outputs": [],
   "source": [
    "D['open_time'] = pd.to_datetime(D['open_time'], unit='ms')"
   ]
  },
  {
   "cell_type": "code",
   "execution_count": 7,
   "metadata": {},
   "outputs": [],
   "source": [
    "D['month'] = D['open_time'].dt.month\n",
    "D['day'] = D['open_time'].dt.day\n",
    "D['year'] = D['open_time'].dt.year"
   ]
  },
  {
   "cell_type": "code",
   "execution_count": 8,
   "metadata": {},
   "outputs": [],
   "source": [
    "D = D.drop(['open_time', 'close_time', 'qav', 'is_best_match'], axis=1)"
   ]
  },
  {
   "cell_type": "code",
   "execution_count": 9,
   "metadata": {},
   "outputs": [],
   "source": [
    "X = D.drop(['close'], axis=1)\n",
    "y = D['close']"
   ]
  },
  {
   "cell_type": "code",
   "execution_count": 10,
   "metadata": {},
   "outputs": [],
   "source": [
    "X_train, X_test, y_train, y_test = train_test_split(X, y, test_size=0.2, random_state=42)"
   ]
  },
  {
   "cell_type": "code",
   "execution_count": 11,
   "metadata": {},
   "outputs": [
    {
     "data": {
      "text/html": [
       "<style>#sk-container-id-1 {color: black;}#sk-container-id-1 pre{padding: 0;}#sk-container-id-1 div.sk-toggleable {background-color: white;}#sk-container-id-1 label.sk-toggleable__label {cursor: pointer;display: block;width: 100%;margin-bottom: 0;padding: 0.3em;box-sizing: border-box;text-align: center;}#sk-container-id-1 label.sk-toggleable__label-arrow:before {content: \"▸\";float: left;margin-right: 0.25em;color: #696969;}#sk-container-id-1 label.sk-toggleable__label-arrow:hover:before {color: black;}#sk-container-id-1 div.sk-estimator:hover label.sk-toggleable__label-arrow:before {color: black;}#sk-container-id-1 div.sk-toggleable__content {max-height: 0;max-width: 0;overflow: hidden;text-align: left;background-color: #f0f8ff;}#sk-container-id-1 div.sk-toggleable__content pre {margin: 0.2em;color: black;border-radius: 0.25em;background-color: #f0f8ff;}#sk-container-id-1 input.sk-toggleable__control:checked~div.sk-toggleable__content {max-height: 200px;max-width: 100%;overflow: auto;}#sk-container-id-1 input.sk-toggleable__control:checked~label.sk-toggleable__label-arrow:before {content: \"▾\";}#sk-container-id-1 div.sk-estimator input.sk-toggleable__control:checked~label.sk-toggleable__label {background-color: #d4ebff;}#sk-container-id-1 div.sk-label input.sk-toggleable__control:checked~label.sk-toggleable__label {background-color: #d4ebff;}#sk-container-id-1 input.sk-hidden--visually {border: 0;clip: rect(1px 1px 1px 1px);clip: rect(1px, 1px, 1px, 1px);height: 1px;margin: -1px;overflow: hidden;padding: 0;position: absolute;width: 1px;}#sk-container-id-1 div.sk-estimator {font-family: monospace;background-color: #f0f8ff;border: 1px dotted black;border-radius: 0.25em;box-sizing: border-box;margin-bottom: 0.5em;}#sk-container-id-1 div.sk-estimator:hover {background-color: #d4ebff;}#sk-container-id-1 div.sk-parallel-item::after {content: \"\";width: 100%;border-bottom: 1px solid gray;flex-grow: 1;}#sk-container-id-1 div.sk-label:hover label.sk-toggleable__label {background-color: #d4ebff;}#sk-container-id-1 div.sk-serial::before {content: \"\";position: absolute;border-left: 1px solid gray;box-sizing: border-box;top: 0;bottom: 0;left: 50%;z-index: 0;}#sk-container-id-1 div.sk-serial {display: flex;flex-direction: column;align-items: center;background-color: white;padding-right: 0.2em;padding-left: 0.2em;position: relative;}#sk-container-id-1 div.sk-item {position: relative;z-index: 1;}#sk-container-id-1 div.sk-parallel {display: flex;align-items: stretch;justify-content: center;background-color: white;position: relative;}#sk-container-id-1 div.sk-item::before, #sk-container-id-1 div.sk-parallel-item::before {content: \"\";position: absolute;border-left: 1px solid gray;box-sizing: border-box;top: 0;bottom: 0;left: 50%;z-index: -1;}#sk-container-id-1 div.sk-parallel-item {display: flex;flex-direction: column;z-index: 1;position: relative;background-color: white;}#sk-container-id-1 div.sk-parallel-item:first-child::after {align-self: flex-end;width: 50%;}#sk-container-id-1 div.sk-parallel-item:last-child::after {align-self: flex-start;width: 50%;}#sk-container-id-1 div.sk-parallel-item:only-child::after {width: 0;}#sk-container-id-1 div.sk-dashed-wrapped {border: 1px dashed gray;margin: 0 0.4em 0.5em 0.4em;box-sizing: border-box;padding-bottom: 0.4em;background-color: white;}#sk-container-id-1 div.sk-label label {font-family: monospace;font-weight: bold;display: inline-block;line-height: 1.2em;}#sk-container-id-1 div.sk-label-container {text-align: center;}#sk-container-id-1 div.sk-container {/* jupyter's `normalize.less` sets `[hidden] { display: none; }` but bootstrap.min.css set `[hidden] { display: none !important; }` so we also need the `!important` here to be able to override the default hidden behavior on the sphinx rendered scikit-learn.org. See: https://github.com/scikit-learn/scikit-learn/issues/21755 */display: inline-block !important;position: relative;}#sk-container-id-1 div.sk-text-repr-fallback {display: none;}</style><div id=\"sk-container-id-1\" class=\"sk-top-container\"><div class=\"sk-text-repr-fallback\"><pre>RandomForestRegressor(random_state=42)</pre><b>In a Jupyter environment, please rerun this cell to show the HTML representation or trust the notebook. <br />On GitHub, the HTML representation is unable to render, please try loading this page with nbviewer.org.</b></div><div class=\"sk-container\" hidden><div class=\"sk-item\"><div class=\"sk-estimator sk-toggleable\"><input class=\"sk-toggleable__control sk-hidden--visually\" id=\"sk-estimator-id-1\" type=\"checkbox\" checked><label for=\"sk-estimator-id-1\" class=\"sk-toggleable__label sk-toggleable__label-arrow\">RandomForestRegressor</label><div class=\"sk-toggleable__content\"><pre>RandomForestRegressor(random_state=42)</pre></div></div></div></div></div>"
      ],
      "text/plain": [
       "RandomForestRegressor(random_state=42)"
      ]
     },
     "execution_count": 11,
     "metadata": {},
     "output_type": "execute_result"
    }
   ],
   "source": [
    "RF = RandomForestRegressor(random_state=42)\n",
    "RF.fit(X_train, y_train)"
   ]
  },
  {
   "cell_type": "code",
   "execution_count": 12,
   "metadata": {},
   "outputs": [
    {
     "name": "stdout",
     "output_type": "stream",
     "text": [
      "Mean Squared Error: 12155.93712219719\n"
     ]
    }
   ],
   "source": [
    "y_pred = RF.predict(X_test)\n",
    "mse = mean_squared_error(y_test, y_pred)\n",
    "print('Mean Squared Error:', mse)"
   ]
  },
  {
   "cell_type": "code",
   "execution_count": 14,
   "metadata": {},
   "outputs": [
    {
     "data": {
      "text/html": [
       "<style>#sk-container-id-2 {color: black;}#sk-container-id-2 pre{padding: 0;}#sk-container-id-2 div.sk-toggleable {background-color: white;}#sk-container-id-2 label.sk-toggleable__label {cursor: pointer;display: block;width: 100%;margin-bottom: 0;padding: 0.3em;box-sizing: border-box;text-align: center;}#sk-container-id-2 label.sk-toggleable__label-arrow:before {content: \"▸\";float: left;margin-right: 0.25em;color: #696969;}#sk-container-id-2 label.sk-toggleable__label-arrow:hover:before {color: black;}#sk-container-id-2 div.sk-estimator:hover label.sk-toggleable__label-arrow:before {color: black;}#sk-container-id-2 div.sk-toggleable__content {max-height: 0;max-width: 0;overflow: hidden;text-align: left;background-color: #f0f8ff;}#sk-container-id-2 div.sk-toggleable__content pre {margin: 0.2em;color: black;border-radius: 0.25em;background-color: #f0f8ff;}#sk-container-id-2 input.sk-toggleable__control:checked~div.sk-toggleable__content {max-height: 200px;max-width: 100%;overflow: auto;}#sk-container-id-2 input.sk-toggleable__control:checked~label.sk-toggleable__label-arrow:before {content: \"▾\";}#sk-container-id-2 div.sk-estimator input.sk-toggleable__control:checked~label.sk-toggleable__label {background-color: #d4ebff;}#sk-container-id-2 div.sk-label input.sk-toggleable__control:checked~label.sk-toggleable__label {background-color: #d4ebff;}#sk-container-id-2 input.sk-hidden--visually {border: 0;clip: rect(1px 1px 1px 1px);clip: rect(1px, 1px, 1px, 1px);height: 1px;margin: -1px;overflow: hidden;padding: 0;position: absolute;width: 1px;}#sk-container-id-2 div.sk-estimator {font-family: monospace;background-color: #f0f8ff;border: 1px dotted black;border-radius: 0.25em;box-sizing: border-box;margin-bottom: 0.5em;}#sk-container-id-2 div.sk-estimator:hover {background-color: #d4ebff;}#sk-container-id-2 div.sk-parallel-item::after {content: \"\";width: 100%;border-bottom: 1px solid gray;flex-grow: 1;}#sk-container-id-2 div.sk-label:hover label.sk-toggleable__label {background-color: #d4ebff;}#sk-container-id-2 div.sk-serial::before {content: \"\";position: absolute;border-left: 1px solid gray;box-sizing: border-box;top: 0;bottom: 0;left: 50%;z-index: 0;}#sk-container-id-2 div.sk-serial {display: flex;flex-direction: column;align-items: center;background-color: white;padding-right: 0.2em;padding-left: 0.2em;position: relative;}#sk-container-id-2 div.sk-item {position: relative;z-index: 1;}#sk-container-id-2 div.sk-parallel {display: flex;align-items: stretch;justify-content: center;background-color: white;position: relative;}#sk-container-id-2 div.sk-item::before, #sk-container-id-2 div.sk-parallel-item::before {content: \"\";position: absolute;border-left: 1px solid gray;box-sizing: border-box;top: 0;bottom: 0;left: 50%;z-index: -1;}#sk-container-id-2 div.sk-parallel-item {display: flex;flex-direction: column;z-index: 1;position: relative;background-color: white;}#sk-container-id-2 div.sk-parallel-item:first-child::after {align-self: flex-end;width: 50%;}#sk-container-id-2 div.sk-parallel-item:last-child::after {align-self: flex-start;width: 50%;}#sk-container-id-2 div.sk-parallel-item:only-child::after {width: 0;}#sk-container-id-2 div.sk-dashed-wrapped {border: 1px dashed gray;margin: 0 0.4em 0.5em 0.4em;box-sizing: border-box;padding-bottom: 0.4em;background-color: white;}#sk-container-id-2 div.sk-label label {font-family: monospace;font-weight: bold;display: inline-block;line-height: 1.2em;}#sk-container-id-2 div.sk-label-container {text-align: center;}#sk-container-id-2 div.sk-container {/* jupyter's `normalize.less` sets `[hidden] { display: none; }` but bootstrap.min.css set `[hidden] { display: none !important; }` so we also need the `!important` here to be able to override the default hidden behavior on the sphinx rendered scikit-learn.org. See: https://github.com/scikit-learn/scikit-learn/issues/21755 */display: inline-block !important;position: relative;}#sk-container-id-2 div.sk-text-repr-fallback {display: none;}</style><div id=\"sk-container-id-2\" class=\"sk-top-container\"><div class=\"sk-text-repr-fallback\"><pre>RandomForestRegressor(random_state=42)</pre><b>In a Jupyter environment, please rerun this cell to show the HTML representation or trust the notebook. <br />On GitHub, the HTML representation is unable to render, please try loading this page with nbviewer.org.</b></div><div class=\"sk-container\" hidden><div class=\"sk-item\"><div class=\"sk-estimator sk-toggleable\"><input class=\"sk-toggleable__control sk-hidden--visually\" id=\"sk-estimator-id-2\" type=\"checkbox\" checked><label for=\"sk-estimator-id-2\" class=\"sk-toggleable__label sk-toggleable__label-arrow\">RandomForestRegressor</label><div class=\"sk-toggleable__content\"><pre>RandomForestRegressor(random_state=42)</pre></div></div></div></div></div>"
      ],
      "text/plain": [
       "RandomForestRegressor(random_state=42)"
      ]
     },
     "execution_count": 14,
     "metadata": {},
     "output_type": "execute_result"
    }
   ],
   "source": [
    "RF.fit(X_train, y_train)"
   ]
  },
  {
   "cell_type": "code",
   "execution_count": 15,
   "metadata": {},
   "outputs": [
    {
     "name": "stdout",
     "output_type": "stream",
     "text": [
      "<class 'numpy.ndarray'>\n",
      "Predicted Forecasted Price  [101447.785 101225.955 101568.139 101224.62  101207.072 101250.923\n",
      " 100805.321 101478.912 100279.289 100519.967 100775.51  100882.459\n",
      " 101557.374 101008.551 101171.576 100327.656 101344.46  101497.667\n",
      " 100486.085 101063.391]\n",
      "<class 'pandas.core.series.Series'>\n",
      "Actual Forecasted Price  83    101413.50\n",
      "53    101354.60\n",
      "70    101449.80\n",
      "45    101485.00\n",
      "44    101303.10\n",
      "39    101388.30\n",
      "22    100811.50\n",
      "80    101413.70\n",
      "10    100339.80\n",
      "0     100490.60\n",
      "18    100876.20\n",
      "30    100800.00\n",
      "73    101563.00\n",
      "33    100989.20\n",
      "90    100985.60\n",
      "4     100446.80\n",
      "76    101515.30\n",
      "77    101564.90\n",
      "12    100539.30\n",
      "31    101000.00\n",
      "Name: close, dtype: object\n",
      "Diff between Actual and Predicted Forecased Price (close price )\n"
     ]
    },
    {
     "data": {
      "text/plain": [
       "83     34.285\n",
       "53   -128.645\n",
       "70    118.339\n",
       "45   -260.380\n",
       "44    -96.028\n",
       "39   -137.377\n",
       "22     -6.179\n",
       "80     65.212\n",
       "10    -60.511\n",
       "0      29.367\n",
       "18   -100.690\n",
       "30     82.459\n",
       "73     -5.626\n",
       "33     19.351\n",
       "90    185.976\n",
       "4    -119.144\n",
       "76   -170.840\n",
       "77    -67.233\n",
       "12    -53.215\n",
       "31     63.391\n",
       "Name: close, dtype: float64"
      ]
     },
     "execution_count": 15,
     "metadata": {},
     "output_type": "execute_result"
    }
   ],
   "source": [
    "prd=RF.predict(X_test)\n",
    "print(type(prd))\n",
    "print('Predicted Forecasted Price ', RF.predict(X_test))\n",
    "ard=y_test\n",
    "print(type(ard))\n",
    "print('Actual Forecasted Price ', y_test)\n",
    "print('Diff between Actual and Predicted Forecased Price (close price )')\n",
    "ard=ard.astype(float)\n",
    "prd-ard"
   ]
  },
  {
   "cell_type": "code",
   "execution_count": 16,
   "metadata": {},
   "outputs": [
    {
     "data": {
      "text/plain": [
       "0     100490.60\n",
       "1     100227.70\n",
       "2     100254.40\n",
       "3     100327.50\n",
       "4     100446.80\n",
       "        ...    \n",
       "95    100882.60\n",
       "96    100952.30\n",
       "97    100762.20\n",
       "98    100479.00\n",
       "99    100402.40\n",
       "Name: close, Length: 100, dtype: object"
      ]
     },
     "execution_count": 16,
     "metadata": {},
     "output_type": "execute_result"
    }
   ],
   "source": [
    "y"
   ]
  },
  {
   "cell_type": "code",
   "execution_count": 17,
   "metadata": {},
   "outputs": [
    {
     "name": "stdout",
     "output_type": "stream",
     "text": [
      "Mean Squared Error (MSE): 12155.93712219719\n"
     ]
    }
   ],
   "source": [
    "# Evaluate model\n",
    "mse = mean_squared_error(y_test, y_pred)\n",
    "print('Mean Squared Error (MSE):', mse)"
   ]
  },
  {
   "cell_type": "code",
   "execution_count": 18,
   "metadata": {},
   "outputs": [
    {
     "name": "stdout",
     "output_type": "stream",
     "text": [
      "Training Accuracy: 0.9932138121865949\n",
      "Testing Accuracy: 0.9241393725832902\n"
     ]
    }
   ],
   "source": [
    "# Calculate training and testing accuracy\n",
    "training_accuracy = RF.score(X_train, y_train)\n",
    "testing_accuracy = RF.score(X_test, y_test)\n",
    "\n",
    "print('Training Accuracy:', training_accuracy)\n",
    "print('Testing Accuracy:', testing_accuracy)"
   ]
  },
  {
   "cell_type": "code",
   "execution_count": 19,
   "metadata": {},
   "outputs": [
    {
     "ename": "SyntaxError",
     "evalue": "invalid syntax (3314125167.py, line 8)",
     "output_type": "error",
     "traceback": [
      "\u001b[1;36m  Cell \u001b[1;32mIn[19], line 8\u001b[1;36m\u001b[0m\n\u001b[1;33m    plt.xlabel('Open_price')\u001b[0m\n\u001b[1;37m    ^\u001b[0m\n\u001b[1;31mSyntaxError\u001b[0m\u001b[1;31m:\u001b[0m invalid syntax\n"
     ]
    }
   ],
   "source": [
    "import matplotlib.pyplot as plt\n",
    "# Convert y_pred to a pandas Series with the same index as y_test\n",
    "y_pred_series = pd.Series(y_pred, index=y_test.index)\n",
    "# Plotting actual vs predicted prices\n",
    "plt.figure(figsize=(10, 6))\n",
    "plt.plot(X_test['open'].head(10),y_test.head(10), label='Actual Price', colo\n",
    "# plt.plot(y_pred_series.index, y_pred_series.values, label='Predicted Price\n",
    "plt.xlabel('Open_price')\n",
    "plt.ylabel('Close_price')\n",
    "# plt.title('Actual vs Predicted Price')"
   ]
  },
  {
   "cell_type": "code",
   "execution_count": null,
   "metadata": {},
   "outputs": [],
   "source": []
  },
  {
   "cell_type": "code",
   "execution_count": null,
   "metadata": {},
   "outputs": [],
   "source": []
  },
  {
   "cell_type": "code",
   "execution_count": null,
   "metadata": {},
   "outputs": [],
   "source": []
  },
  {
   "cell_type": "code",
   "execution_count": null,
   "metadata": {},
   "outputs": [],
   "source": []
  },
  {
   "cell_type": "code",
   "execution_count": null,
   "metadata": {},
   "outputs": [],
   "source": []
  },
  {
   "cell_type": "code",
   "execution_count": null,
   "metadata": {},
   "outputs": [],
   "source": []
  },
  {
   "cell_type": "code",
   "execution_count": null,
   "metadata": {},
   "outputs": [],
   "source": []
  },
  {
   "cell_type": "code",
   "execution_count": null,
   "metadata": {},
   "outputs": [],
   "source": []
  },
  {
   "cell_type": "code",
   "execution_count": null,
   "metadata": {},
   "outputs": [],
   "source": []
  },
  {
   "cell_type": "code",
   "execution_count": null,
   "metadata": {},
   "outputs": [],
   "source": []
  },
  {
   "cell_type": "code",
   "execution_count": null,
   "metadata": {},
   "outputs": [],
   "source": []
  },
  {
   "cell_type": "code",
   "execution_count": null,
   "metadata": {},
   "outputs": [],
   "source": []
  },
  {
   "cell_type": "code",
   "execution_count": null,
   "metadata": {},
   "outputs": [],
   "source": []
  },
  {
   "cell_type": "code",
   "execution_count": null,
   "metadata": {},
   "outputs": [],
   "source": []
  },
  {
   "cell_type": "code",
   "execution_count": null,
   "metadata": {},
   "outputs": [],
   "source": []
  },
  {
   "cell_type": "code",
   "execution_count": null,
   "metadata": {},
   "outputs": [],
   "source": []
  },
  {
   "cell_type": "code",
   "execution_count": null,
   "metadata": {},
   "outputs": [],
   "source": []
  },
  {
   "cell_type": "code",
   "execution_count": null,
   "metadata": {},
   "outputs": [],
   "source": []
  },
  {
   "cell_type": "code",
   "execution_count": null,
   "metadata": {},
   "outputs": [],
   "source": []
  },
  {
   "cell_type": "code",
   "execution_count": null,
   "metadata": {},
   "outputs": [],
   "source": []
  },
  {
   "cell_type": "code",
   "execution_count": null,
   "metadata": {},
   "outputs": [],
   "source": []
  },
  {
   "cell_type": "code",
   "execution_count": null,
   "metadata": {},
   "outputs": [],
   "source": []
  }
 ],
 "metadata": {
  "kernelspec": {
   "display_name": "Python 3",
   "language": "python",
   "name": "python3"
  },
  "language_info": {
   "codemirror_mode": {
    "name": "ipython",
    "version": 3
   },
   "file_extension": ".py",
   "mimetype": "text/x-python",
   "name": "python",
   "nbconvert_exporter": "python",
   "pygments_lexer": "ipython3",
   "version": "3.8.20"
  }
 },
 "nbformat": 4,
 "nbformat_minor": 2
}
